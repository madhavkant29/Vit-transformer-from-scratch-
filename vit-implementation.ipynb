{
 "cells": [
  {
   "cell_type": "code",
   "execution_count": 3,
   "metadata": {
    "execution": {
     "iopub.execute_input": "2023-09-26T14:40:15.320131Z",
     "iopub.status.busy": "2023-09-26T14:40:15.319872Z",
     "iopub.status.idle": "2023-09-26T14:40:20.953313Z",
     "shell.execute_reply": "2023-09-26T14:40:20.952266Z",
     "shell.execute_reply.started": "2023-09-26T14:40:15.320106Z"
    }
   },
   "outputs": [],
   "source": [
    "import torch\n",
    "import pandas as pd\n",
    "from torch import nn\n",
    "from torch import optim\n",
    "from torch.utils.data import DataLoader, Dataset\n",
    "from torchvision import transforms\n",
    "from sklearn.model_selection import train_test_split\n",
    "import matplotlib.pyplot as plt\n",
    "import numpy as np\n",
    "import random\n",
    "import timeit\n",
    "from tqdm import tqdm"
   ]
  },
  {
   "cell_type": "code",
   "execution_count": 4,
   "metadata": {
    "execution": {
     "iopub.execute_input": "2023-09-26T14:40:20.963686Z",
     "iopub.status.busy": "2023-09-26T14:40:20.958652Z",
     "iopub.status.idle": "2023-09-26T14:40:21.008339Z",
     "shell.execute_reply": "2023-09-26T14:40:21.007489Z",
     "shell.execute_reply.started": "2023-09-26T14:40:20.963650Z"
    }
   },
   "outputs": [],
   "source": [
    "RANDOM_SEED = 42\n",
    "BATCH_SIZE = 512\n",
    "EPOCHS = 40\n",
    "LEARNING_RATE = 1e-4\n",
    "NUM_CLASSES = 10\n",
    "PATCH_SIZE = 4\n",
    "IMG_SIZE = 28\n",
    "IN_CHANNELS = 1\n",
    "NUM_HEADS = 8\n",
    "DROPOUT = 0.001\n",
    "HIDDEN_DIM = 768\n",
    "ADAM_WEIGHT_DECAY = 0\n",
    "ADAM_BETAS = (0.9, 0.999)\n",
    "ACTIVATION=\"gelu\"\n",
    "NUM_ENCODERS = 4\n",
    "EMBED_DIM = (PATCH_SIZE ** 2) * IN_CHANNELS # 16\n",
    "NUM_PATCHES = (IMG_SIZE // PATCH_SIZE) ** 2 # 49\n",
    "\n",
    "random.seed(RANDOM_SEED)\n",
    "np.random.seed(RANDOM_SEED)\n",
    "torch.manual_seed(RANDOM_SEED)\n",
    "torch.cuda.manual_seed(RANDOM_SEED)\n",
    "torch.cuda.manual_seed_all(RANDOM_SEED)\n",
    "torch.backends.cudnn.deterministic = True\n",
    "torch.backends.cudnn.benchmark = False\n",
    "\n",
    "device = \"cuda\" if torch.cuda.is_available() else \"cpu\""
   ]
  },
  {
   "cell_type": "code",
   "execution_count": 5,
   "metadata": {
    "execution": {
     "iopub.execute_input": "2023-09-26T14:44:18.472373Z",
     "iopub.status.busy": "2023-09-26T14:44:18.471676Z",
     "iopub.status.idle": "2023-09-26T14:44:23.087786Z",
     "shell.execute_reply": "2023-09-26T14:44:23.086684Z",
     "shell.execute_reply.started": "2023-09-26T14:44:18.472339Z"
    }
   },
   "outputs": [
    {
     "name": "stdout",
     "output_type": "stream",
     "text": [
      "torch.Size([512, 50, 16])\n"
     ]
    }
   ],
   "source": [
    "class PatchEmbedding(nn.Module):\n",
    "    def __init__(self, embed_dim, patch_size, num_patches, dropout, in_channels):\n",
    "        super().__init__()\n",
    "        self.patcher = nn.Sequential(\n",
    "            nn.Conv2d(\n",
    "                in_channels=in_channels,\n",
    "                out_channels=embed_dim,\n",
    "                kernel_size=patch_size,\n",
    "                stride=patch_size,\n",
    "            ),                  \n",
    "            nn.Flatten(2))\n",
    "\n",
    "        self.cls_token = nn.Parameter(torch.randn(size=(1, in_channels, embed_dim)), requires_grad=True)\n",
    "        self.position_embeddings = nn.Parameter(torch.randn(size=(1, num_patches+1, embed_dim)), requires_grad=True)\n",
    "        self.dropout = nn.Dropout(p=dropout)\n",
    "\n",
    "    def forward(self, x):\n",
    "        cls_token = self.cls_token.expand(x.shape[0], -1, -1)\n",
    "\n",
    "        x = self.patcher(x).permute(0, 2, 1)\n",
    "        x = torch.cat([cls_token, x], dim=1)\n",
    "        x = self.position_embeddings + x \n",
    "        x = self.dropout(x)\n",
    "        return x\n",
    "    \n",
    "model = PatchEmbedding(EMBED_DIM, PATCH_SIZE, NUM_PATCHES, DROPOUT, IN_CHANNELS).to(device)\n",
    "x = torch.randn(512, 1, 28, 28).to(device)\n",
    "print(model(x).shape)"
   ]
  },
  {
   "cell_type": "code",
   "execution_count": 6,
   "metadata": {
    "execution": {
     "iopub.execute_input": "2023-09-26T14:44:34.029391Z",
     "iopub.status.busy": "2023-09-26T14:44:34.029018Z",
     "iopub.status.idle": "2023-09-26T14:44:34.122786Z",
     "shell.execute_reply": "2023-09-26T14:44:34.121796Z",
     "shell.execute_reply.started": "2023-09-26T14:44:34.029359Z"
    }
   },
   "outputs": [
    {
     "name": "stderr",
     "output_type": "stream",
     "text": [
      "c:\\Users\\madha\\anaconda3\\Lib\\site-packages\\torch\\nn\\modules\\transformer.py:307: UserWarning: enable_nested_tensor is True, but self.use_nested_tensor is False because encoder_layer.norm_first was True\n",
      "  warnings.warn(f\"enable_nested_tensor is True, but self.use_nested_tensor is False because {why_not_sparsity_fast_path}\")\n"
     ]
    },
    {
     "name": "stdout",
     "output_type": "stream",
     "text": [
      "torch.Size([512, 10])\n"
     ]
    },
    {
     "name": "stderr",
     "output_type": "stream",
     "text": [
      "c:\\Users\\madha\\anaconda3\\Lib\\site-packages\\torch\\nn\\functional.py:5560: UserWarning: 1Torch was not compiled with flash attention. (Triggered internally at C:\\actions-runner\\_work\\pytorch\\pytorch\\builder\\windows\\pytorch\\aten\\src\\ATen\\native\\transformers\\cuda\\sdp_utils.cpp:555.)\n",
      "  attn_output = scaled_dot_product_attention(q, k, v, attn_mask, dropout_p, is_causal)\n"
     ]
    }
   ],
   "source": [
    "class ViT(nn.Module):\n",
    "    def __init__(self, num_patches, img_size, num_classes, patch_size, embed_dim, num_encoders, num_heads, hidden_dim, dropout, activation, in_channels):\n",
    "        super().__init__()\n",
    "        self.embeddings_block = PatchEmbedding(embed_dim, patch_size, num_patches, dropout, in_channels)\n",
    "        \n",
    "        encoder_layer = nn.TransformerEncoderLayer(d_model=embed_dim, nhead=num_heads, dropout=dropout, activation=activation, batch_first=True, norm_first=True)\n",
    "        self.encoder_blocks = nn.TransformerEncoder(encoder_layer, num_layers=num_encoders)\n",
    "\n",
    "        self.mlp_head = nn.Sequential(\n",
    "            nn.LayerNorm(normalized_shape=embed_dim),\n",
    "            nn.Linear(in_features=embed_dim, out_features=num_classes)\n",
    "        )\n",
    "\n",
    "    def forward(self, x):\n",
    "        x = self.embeddings_block(x)\n",
    "        x = self.encoder_blocks(x)\n",
    "        x = self.mlp_head(x[:, 0, :])  # Apply MLP on the CLS token only\n",
    "        return x\n",
    "\n",
    "model = ViT(NUM_PATCHES, IMG_SIZE, NUM_CLASSES, PATCH_SIZE, EMBED_DIM, NUM_ENCODERS, NUM_HEADS, HIDDEN_DIM, DROPOUT, ACTIVATION, IN_CHANNELS).to(device)\n",
    "x = torch.randn(512, 1, 28, 28).to(device)\n",
    "print(model(x).shape) # BATCH_SIZE X NUM_CLASSES"
   ]
  },
  {
   "cell_type": "code",
   "execution_count": 7,
   "metadata": {
    "execution": {
     "iopub.execute_input": "2023-09-26T14:44:35.975856Z",
     "iopub.status.busy": "2023-09-26T14:44:35.974369Z",
     "iopub.status.idle": "2023-09-26T14:44:41.635006Z",
     "shell.execute_reply": "2023-09-26T14:44:41.634012Z",
     "shell.execute_reply.started": "2023-09-26T14:44:35.975813Z"
    }
   },
   "outputs": [],
   "source": [
    "train_df = pd.read_csv(\"train.csv\")\n",
    "test_df = pd.read_csv(\"test.csv\")\n"
   ]
  },
  {
   "cell_type": "code",
   "execution_count": 8,
   "metadata": {
    "execution": {
     "iopub.execute_input": "2023-09-26T14:44:41.637438Z",
     "iopub.status.busy": "2023-09-26T14:44:41.637083Z",
     "iopub.status.idle": "2023-09-26T14:44:41.666402Z",
     "shell.execute_reply": "2023-09-26T14:44:41.665539Z",
     "shell.execute_reply.started": "2023-09-26T14:44:41.637406Z"
    }
   },
   "outputs": [
    {
     "data": {
      "text/plain": [
       "(   label  pixel0  pixel1  pixel2  pixel3  pixel4  pixel5  pixel6  pixel7  \\\n",
       " 0      1       0       0       0       0       0       0       0       0   \n",
       " 1      0       0       0       0       0       0       0       0       0   \n",
       " 2      1       0       0       0       0       0       0       0       0   \n",
       " 3      4       0       0       0       0       0       0       0       0   \n",
       " 4      0       0       0       0       0       0       0       0       0   \n",
       " \n",
       "    pixel8  ...  pixel774  pixel775  pixel776  pixel777  pixel778  pixel779  \\\n",
       " 0       0  ...         0         0         0         0         0         0   \n",
       " 1       0  ...         0         0         0         0         0         0   \n",
       " 2       0  ...         0         0         0         0         0         0   \n",
       " 3       0  ...         0         0         0         0         0         0   \n",
       " 4       0  ...         0         0         0         0         0         0   \n",
       " \n",
       "    pixel780  pixel781  pixel782  pixel783  \n",
       " 0         0         0         0         0  \n",
       " 1         0         0         0         0  \n",
       " 2         0         0         0         0  \n",
       " 3         0         0         0         0  \n",
       " 4         0         0         0         0  \n",
       " \n",
       " [5 rows x 785 columns],\n",
       "    pixel0  pixel1  pixel2  pixel3  pixel4  pixel5  pixel6  pixel7  pixel8  \\\n",
       " 0       0       0       0       0       0       0       0       0       0   \n",
       " 1       0       0       0       0       0       0       0       0       0   \n",
       " 2       0       0       0       0       0       0       0       0       0   \n",
       " 3       0       0       0       0       0       0       0       0       0   \n",
       " 4       0       0       0       0       0       0       0       0       0   \n",
       " \n",
       "    pixel9  ...  pixel774  pixel775  pixel776  pixel777  pixel778  pixel779  \\\n",
       " 0       0  ...         0         0         0         0         0         0   \n",
       " 1       0  ...         0         0         0         0         0         0   \n",
       " 2       0  ...         0         0         0         0         0         0   \n",
       " 3       0  ...         0         0         0         0         0         0   \n",
       " 4       0  ...         0         0         0         0         0         0   \n",
       " \n",
       "    pixel780  pixel781  pixel782  pixel783  \n",
       " 0         0         0         0         0  \n",
       " 1         0         0         0         0  \n",
       " 2         0         0         0         0  \n",
       " 3         0         0         0         0  \n",
       " 4         0         0         0         0  \n",
       " \n",
       " [5 rows x 784 columns])"
      ]
     },
     "execution_count": 8,
     "metadata": {},
     "output_type": "execute_result"
    }
   ],
   "source": [
    "train_df.head(), test_df.head()"
   ]
  },
  {
   "cell_type": "code",
   "execution_count": 11,
   "metadata": {
    "execution": {
     "iopub.execute_input": "2023-09-26T14:44:41.702090Z",
     "iopub.status.busy": "2023-09-26T14:44:41.701719Z",
     "iopub.status.idle": "2023-09-26T14:44:41.905219Z",
     "shell.execute_reply": "2023-09-26T14:44:41.904203Z",
     "shell.execute_reply.started": "2023-09-26T14:44:41.702017Z"
    }
   },
   "outputs": [],
   "source": [
    "train_df, val_df = train_test_split(train_df, test_size=0.1, random_state=RANDOM_SEED, shuffle=True)"
   ]
  },
  {
   "cell_type": "code",
   "execution_count": 12,
   "metadata": {
    "execution": {
     "iopub.execute_input": "2023-09-26T14:44:41.907233Z",
     "iopub.status.busy": "2023-09-26T14:44:41.906834Z",
     "iopub.status.idle": "2023-09-26T14:44:41.922234Z",
     "shell.execute_reply": "2023-09-26T14:44:41.921270Z",
     "shell.execute_reply.started": "2023-09-26T14:44:41.907200Z"
    }
   },
   "outputs": [],
   "source": [
    "class MNISTTrainDataset(Dataset):\n",
    "    def __init__(self, images, labels, indicies):\n",
    "        self.images = images\n",
    "        self.labels = labels\n",
    "        self.indicies = indicies\n",
    "        self.transform = transforms.Compose([\n",
    "            transforms.ToPILImage(),\n",
    "            transforms.RandomRotation(15),\n",
    "            transforms.ToTensor(),\n",
    "            transforms.Normalize([0.5], [0.5])\n",
    "        ])\n",
    "        \n",
    "    def __len__(self):\n",
    "        return len(self.images)\n",
    "    \n",
    "    def __getitem__(self, idx):\n",
    "        image = self.images[idx].reshape((28, 28)).astype(np.uint8)\n",
    "        label = self.labels[idx]\n",
    "        index = self.indicies[idx]\n",
    "        image = self.transform(image)\n",
    "        \n",
    "        return {\"image\": image, \"label\": label, \"index\": index}\n",
    "    \n",
    "class MNISTValDataset(Dataset):\n",
    "    def __init__(self, images, labels, indicies):\n",
    "        self.images = images\n",
    "        self.labels = labels\n",
    "        self.indicies = indicies\n",
    "        self.transform = transforms.Compose([\n",
    "            transforms.ToTensor(),\n",
    "            transforms.Normalize([0.5], [0.5])\n",
    "        ])\n",
    "        \n",
    "    def __len__(self):\n",
    "        return len(self.images)\n",
    "    \n",
    "    def __getitem__(self, idx):\n",
    "        image = self.images[idx].reshape((28, 28)).astype(np.uint8)\n",
    "        label = self.labels[idx]\n",
    "        index = self.indicies[idx]\n",
    "        image = self.transform(image)\n",
    "        \n",
    "        return {\"image\": image, \"label\": label, \"index\": index}\n",
    "    \n",
    "class MNISTSubmitDataset(Dataset):\n",
    "    def __init__(self, images, indicies):\n",
    "        self.images = images\n",
    "        self.indicies = indicies\n",
    "        self.transform = transforms.Compose([\n",
    "            transforms.ToTensor(),\n",
    "            transforms.Normalize([0.5], [0.5])\n",
    "        ])\n",
    "    \n",
    "    def __len__(self):\n",
    "        return len(self.images)\n",
    "    \n",
    "    def __getitem__(self, idx):\n",
    "        image = self.images[idx].reshape((28, 28)).astype(np.uint8)\n",
    "        index = self.indicies[idx]\n",
    "        image = self.transform(image)\n",
    "        \n",
    "        return {\"image\": image, \"index\": index}"
   ]
  },
  {
   "cell_type": "code",
   "execution_count": 14,
   "metadata": {
    "execution": {
     "iopub.execute_input": "2023-09-26T14:44:42.888796Z",
     "iopub.status.busy": "2023-09-26T14:44:42.888379Z",
     "iopub.status.idle": "2023-09-26T14:44:42.896871Z",
     "shell.execute_reply": "2023-09-26T14:44:42.895799Z",
     "shell.execute_reply.started": "2023-09-26T14:44:42.888762Z"
    }
   },
   "outputs": [],
   "source": [
    "train_dataloader = DataLoader(dataset=train_dataset,\n",
    "                              batch_size=BATCH_SIZE,\n",
    "                              shuffle=True)\n",
    "\n",
    "val_dataloader = DataLoader(dataset=val_dataset,\n",
    "                            batch_size=BATCH_SIZE,\n",
    "                            shuffle=True)\n",
    "\n",
    "test_dataloader = DataLoader(dataset=test_dataset,\n",
    "                             batch_size=BATCH_SIZE,\n",
    "                             shuffle=False)"
   ]
  },
  {
   "cell_type": "code",
   "execution_count": 15,
   "metadata": {
    "execution": {
     "iopub.execute_input": "2023-09-26T14:44:51.881470Z",
     "iopub.status.busy": "2023-09-26T14:44:51.880896Z",
     "iopub.status.idle": "2023-09-26T14:56:27.518896Z",
     "shell.execute_reply": "2023-09-26T14:56:27.517839Z",
     "shell.execute_reply.started": "2023-09-26T14:44:51.881427Z"
    }
   },
   "outputs": [
    {
     "name": "stderr",
     "output_type": "stream",
     "text": [
      "100%|██████████| 74/74 [00:13<00:00,  5.40it/s]\n",
      "100%|██████████| 9/9 [00:00<00:00, 18.27it/s]\n",
      "  2%|▎         | 1/40 [00:14<09:18, 14.33s/it]"
     ]
    },
    {
     "name": "stdout",
     "output_type": "stream",
     "text": [
      "------------------------------\n",
      "Train Loss EPOCH 1: 2.2572\n",
      "Valid Loss EPOCH 1: 2.0960\n",
      "Train Accuracy EPOCH 1: 0.1602\n",
      "Valid Accuracy EPOCH 1: 0.2443\n",
      "------------------------------\n"
     ]
    },
    {
     "name": "stderr",
     "output_type": "stream",
     "text": [
      "100%|██████████| 74/74 [00:12<00:00,  5.75it/s]\n",
      "100%|██████████| 9/9 [00:00<00:00, 19.35it/s]\n",
      "  5%|▌         | 2/40 [00:27<08:45, 13.84s/it]"
     ]
    },
    {
     "name": "stdout",
     "output_type": "stream",
     "text": [
      "------------------------------\n",
      "Train Loss EPOCH 2: 2.0125\n",
      "Valid Loss EPOCH 2: 1.8174\n",
      "Train Accuracy EPOCH 2: 0.2683\n",
      "Valid Accuracy EPOCH 2: 0.3631\n",
      "------------------------------\n"
     ]
    },
    {
     "name": "stderr",
     "output_type": "stream",
     "text": [
      "100%|██████████| 74/74 [00:13<00:00,  5.68it/s]\n",
      "100%|██████████| 9/9 [00:00<00:00, 18.47it/s]\n",
      "  8%|▊         | 3/40 [00:41<08:29, 13.76s/it]"
     ]
    },
    {
     "name": "stdout",
     "output_type": "stream",
     "text": [
      "------------------------------\n",
      "Train Loss EPOCH 3: 1.7128\n",
      "Valid Loss EPOCH 3: 1.5308\n",
      "Train Accuracy EPOCH 3: 0.4146\n",
      "Valid Accuracy EPOCH 3: 0.5140\n",
      "------------------------------\n"
     ]
    },
    {
     "name": "stderr",
     "output_type": "stream",
     "text": [
      "100%|██████████| 74/74 [00:13<00:00,  5.54it/s]\n",
      "100%|██████████| 9/9 [00:00<00:00, 18.56it/s]\n",
      " 10%|█         | 4/40 [00:55<08:18, 13.85s/it]"
     ]
    },
    {
     "name": "stdout",
     "output_type": "stream",
     "text": [
      "------------------------------\n",
      "Train Loss EPOCH 4: 1.5355\n",
      "Valid Loss EPOCH 4: 1.4340\n",
      "Train Accuracy EPOCH 4: 0.4928\n",
      "Valid Accuracy EPOCH 4: 0.5531\n",
      "------------------------------\n"
     ]
    },
    {
     "name": "stderr",
     "output_type": "stream",
     "text": [
      "100%|██████████| 74/74 [00:12<00:00,  5.74it/s]\n",
      "100%|██████████| 9/9 [00:00<00:00, 19.55it/s]\n",
      " 12%|█▎        | 5/40 [01:09<08:00, 13.74s/it]"
     ]
    },
    {
     "name": "stdout",
     "output_type": "stream",
     "text": [
      "------------------------------\n",
      "Train Loss EPOCH 5: 1.4127\n",
      "Valid Loss EPOCH 5: 1.2704\n",
      "Train Accuracy EPOCH 5: 0.5447\n",
      "Valid Accuracy EPOCH 5: 0.6167\n",
      "------------------------------\n"
     ]
    },
    {
     "name": "stderr",
     "output_type": "stream",
     "text": [
      "100%|██████████| 74/74 [00:12<00:00,  5.75it/s]\n",
      "100%|██████████| 9/9 [00:00<00:00, 19.58it/s]\n",
      " 15%|█▌        | 6/40 [01:22<07:44, 13.66s/it]"
     ]
    },
    {
     "name": "stdout",
     "output_type": "stream",
     "text": [
      "------------------------------\n",
      "Train Loss EPOCH 6: 1.2923\n",
      "Valid Loss EPOCH 6: 1.1407\n",
      "Train Accuracy EPOCH 6: 0.6053\n",
      "Valid Accuracy EPOCH 6: 0.6800\n",
      "------------------------------\n"
     ]
    },
    {
     "name": "stderr",
     "output_type": "stream",
     "text": [
      "100%|██████████| 74/74 [00:12<00:00,  5.75it/s]\n",
      "100%|██████████| 9/9 [00:00<00:00, 19.45it/s]\n",
      " 18%|█▊        | 7/40 [01:36<07:29, 13.61s/it]"
     ]
    },
    {
     "name": "stdout",
     "output_type": "stream",
     "text": [
      "------------------------------\n",
      "Train Loss EPOCH 7: 1.1797\n",
      "Valid Loss EPOCH 7: 1.0441\n",
      "Train Accuracy EPOCH 7: 0.6620\n",
      "Valid Accuracy EPOCH 7: 0.7336\n",
      "------------------------------\n"
     ]
    },
    {
     "name": "stderr",
     "output_type": "stream",
     "text": [
      "100%|██████████| 74/74 [00:12<00:00,  5.77it/s]\n",
      "100%|██████████| 9/9 [00:00<00:00, 15.56it/s]\n",
      " 20%|██        | 8/40 [01:49<07:15, 13.60s/it]"
     ]
    },
    {
     "name": "stdout",
     "output_type": "stream",
     "text": [
      "------------------------------\n",
      "Train Loss EPOCH 8: 1.0743\n",
      "Valid Loss EPOCH 8: 0.9678\n",
      "Train Accuracy EPOCH 8: 0.7113\n",
      "Valid Accuracy EPOCH 8: 0.7505\n",
      "------------------------------\n"
     ]
    },
    {
     "name": "stderr",
     "output_type": "stream",
     "text": [
      "100%|██████████| 74/74 [00:12<00:00,  5.76it/s]\n",
      "100%|██████████| 9/9 [00:00<00:00, 19.25it/s]\n",
      " 22%|██▎       | 9/40 [02:03<07:00, 13.57s/it]"
     ]
    },
    {
     "name": "stdout",
     "output_type": "stream",
     "text": [
      "------------------------------\n",
      "Train Loss EPOCH 9: 0.9882\n",
      "Valid Loss EPOCH 9: 0.8757\n",
      "Train Accuracy EPOCH 9: 0.7376\n",
      "Valid Accuracy EPOCH 9: 0.7850\n",
      "------------------------------\n"
     ]
    },
    {
     "name": "stderr",
     "output_type": "stream",
     "text": [
      "100%|██████████| 74/74 [00:13<00:00,  5.68it/s]\n",
      "100%|██████████| 9/9 [00:00<00:00, 19.21it/s]\n",
      " 25%|██▌       | 10/40 [02:16<06:47, 13.60s/it]"
     ]
    },
    {
     "name": "stdout",
     "output_type": "stream",
     "text": [
      "------------------------------\n",
      "Train Loss EPOCH 10: 0.9143\n",
      "Valid Loss EPOCH 10: 0.8043\n",
      "Train Accuracy EPOCH 10: 0.7562\n",
      "Valid Accuracy EPOCH 10: 0.7983\n",
      "------------------------------\n"
     ]
    },
    {
     "name": "stderr",
     "output_type": "stream",
     "text": [
      "100%|██████████| 74/74 [00:12<00:00,  5.73it/s]\n",
      "100%|██████████| 9/9 [00:00<00:00, 15.52it/s]\n",
      " 28%|██▊       | 11/40 [02:30<06:34, 13.62s/it]"
     ]
    },
    {
     "name": "stdout",
     "output_type": "stream",
     "text": [
      "------------------------------\n",
      "Train Loss EPOCH 11: 0.8526\n",
      "Valid Loss EPOCH 11: 0.7483\n",
      "Train Accuracy EPOCH 11: 0.7718\n",
      "Valid Accuracy EPOCH 11: 0.8167\n",
      "------------------------------\n"
     ]
    },
    {
     "name": "stderr",
     "output_type": "stream",
     "text": [
      "100%|██████████| 74/74 [00:13<00:00,  5.69it/s]\n",
      "100%|██████████| 9/9 [00:00<00:00, 19.04it/s]\n",
      " 30%|███       | 12/40 [02:44<06:21, 13.63s/it]"
     ]
    },
    {
     "name": "stdout",
     "output_type": "stream",
     "text": [
      "------------------------------\n",
      "Train Loss EPOCH 12: 0.8070\n",
      "Valid Loss EPOCH 12: 0.7081\n",
      "Train Accuracy EPOCH 12: 0.7861\n",
      "Valid Accuracy EPOCH 12: 0.8310\n",
      "------------------------------\n"
     ]
    },
    {
     "name": "stderr",
     "output_type": "stream",
     "text": [
      "100%|██████████| 74/74 [00:13<00:00,  5.61it/s]\n",
      "100%|██████████| 9/9 [00:00<00:00, 18.66it/s]\n",
      " 32%|███▎      | 13/40 [02:57<06:09, 13.69s/it]"
     ]
    },
    {
     "name": "stdout",
     "output_type": "stream",
     "text": [
      "------------------------------\n",
      "Train Loss EPOCH 13: 0.7653\n",
      "Valid Loss EPOCH 13: 0.6794\n",
      "Train Accuracy EPOCH 13: 0.7957\n",
      "Valid Accuracy EPOCH 13: 0.8321\n",
      "------------------------------\n"
     ]
    },
    {
     "name": "stderr",
     "output_type": "stream",
     "text": [
      "100%|██████████| 74/74 [00:13<00:00,  5.68it/s]\n",
      "100%|██████████| 9/9 [00:00<00:00, 15.73it/s]\n",
      " 35%|███▌      | 14/40 [03:11<05:56, 13.72s/it]"
     ]
    },
    {
     "name": "stdout",
     "output_type": "stream",
     "text": [
      "------------------------------\n",
      "Train Loss EPOCH 14: 0.7314\n",
      "Valid Loss EPOCH 14: 0.6717\n",
      "Train Accuracy EPOCH 14: 0.8042\n",
      "Valid Accuracy EPOCH 14: 0.8164\n",
      "------------------------------\n"
     ]
    },
    {
     "name": "stderr",
     "output_type": "stream",
     "text": [
      "100%|██████████| 74/74 [00:12<00:00,  5.70it/s]\n",
      "100%|██████████| 9/9 [00:00<00:00, 18.54it/s]\n",
      " 38%|███▊      | 15/40 [03:25<05:42, 13.70s/it]"
     ]
    },
    {
     "name": "stdout",
     "output_type": "stream",
     "text": [
      "------------------------------\n",
      "Train Loss EPOCH 15: 0.6823\n",
      "Valid Loss EPOCH 15: 0.5867\n",
      "Train Accuracy EPOCH 15: 0.8195\n",
      "Valid Accuracy EPOCH 15: 0.8571\n",
      "------------------------------\n"
     ]
    },
    {
     "name": "stderr",
     "output_type": "stream",
     "text": [
      "100%|██████████| 74/74 [00:13<00:00,  5.65it/s]\n",
      "100%|██████████| 9/9 [00:00<00:00, 19.10it/s]\n",
      " 40%|████      | 16/40 [03:39<05:29, 13.71s/it]"
     ]
    },
    {
     "name": "stdout",
     "output_type": "stream",
     "text": [
      "------------------------------\n",
      "Train Loss EPOCH 16: 0.6547\n",
      "Valid Loss EPOCH 16: 0.5721\n",
      "Train Accuracy EPOCH 16: 0.8274\n",
      "Valid Accuracy EPOCH 16: 0.8626\n",
      "------------------------------\n"
     ]
    },
    {
     "name": "stderr",
     "output_type": "stream",
     "text": [
      "100%|██████████| 74/74 [00:13<00:00,  5.69it/s]\n",
      "100%|██████████| 9/9 [00:00<00:00, 15.13it/s]\n",
      " 42%|████▎     | 17/40 [03:52<05:15, 13.73s/it]"
     ]
    },
    {
     "name": "stdout",
     "output_type": "stream",
     "text": [
      "------------------------------\n",
      "Train Loss EPOCH 17: 0.6228\n",
      "Valid Loss EPOCH 17: 0.5484\n",
      "Train Accuracy EPOCH 17: 0.8367\n",
      "Valid Accuracy EPOCH 17: 0.8698\n",
      "------------------------------\n"
     ]
    },
    {
     "name": "stderr",
     "output_type": "stream",
     "text": [
      "100%|██████████| 74/74 [00:13<00:00,  5.50it/s]\n",
      "100%|██████████| 9/9 [00:00<00:00, 18.48it/s]\n",
      " 45%|████▌     | 18/40 [04:07<05:04, 13.85s/it]"
     ]
    },
    {
     "name": "stdout",
     "output_type": "stream",
     "text": [
      "------------------------------\n",
      "Train Loss EPOCH 18: 0.5886\n",
      "Valid Loss EPOCH 18: 0.5193\n",
      "Train Accuracy EPOCH 18: 0.8444\n",
      "Valid Accuracy EPOCH 18: 0.8717\n",
      "------------------------------\n"
     ]
    },
    {
     "name": "stderr",
     "output_type": "stream",
     "text": [
      "100%|██████████| 74/74 [00:13<00:00,  5.58it/s]\n",
      "100%|██████████| 9/9 [00:00<00:00, 18.85it/s]\n",
      " 48%|████▊     | 19/40 [04:20<04:51, 13.87s/it]"
     ]
    },
    {
     "name": "stdout",
     "output_type": "stream",
     "text": [
      "------------------------------\n",
      "Train Loss EPOCH 19: 0.5642\n",
      "Valid Loss EPOCH 19: 0.5125\n",
      "Train Accuracy EPOCH 19: 0.8544\n",
      "Valid Accuracy EPOCH 19: 0.8836\n",
      "------------------------------\n"
     ]
    },
    {
     "name": "stderr",
     "output_type": "stream",
     "text": [
      "100%|██████████| 74/74 [00:13<00:00,  5.62it/s]\n",
      "100%|██████████| 9/9 [00:00<00:00, 15.22it/s]\n",
      " 50%|█████     | 20/40 [04:34<04:37, 13.89s/it]"
     ]
    },
    {
     "name": "stdout",
     "output_type": "stream",
     "text": [
      "------------------------------\n",
      "Train Loss EPOCH 20: 0.5325\n",
      "Valid Loss EPOCH 20: 0.4516\n",
      "Train Accuracy EPOCH 20: 0.8628\n",
      "Valid Accuracy EPOCH 20: 0.8948\n",
      "------------------------------\n"
     ]
    },
    {
     "name": "stderr",
     "output_type": "stream",
     "text": [
      "100%|██████████| 74/74 [00:13<00:00,  5.57it/s]\n",
      "100%|██████████| 9/9 [00:00<00:00, 18.65it/s]\n",
      " 52%|█████▎    | 21/40 [04:48<04:24, 13.91s/it]"
     ]
    },
    {
     "name": "stdout",
     "output_type": "stream",
     "text": [
      "------------------------------\n",
      "Train Loss EPOCH 21: 0.5067\n",
      "Valid Loss EPOCH 21: 0.4517\n",
      "Train Accuracy EPOCH 21: 0.8686\n",
      "Valid Accuracy EPOCH 21: 0.8881\n",
      "------------------------------\n"
     ]
    },
    {
     "name": "stderr",
     "output_type": "stream",
     "text": [
      "100%|██████████| 74/74 [00:13<00:00,  5.54it/s]\n",
      "100%|██████████| 9/9 [00:00<00:00, 17.84it/s]\n",
      " 55%|█████▌    | 22/40 [05:02<04:11, 13.95s/it]"
     ]
    },
    {
     "name": "stdout",
     "output_type": "stream",
     "text": [
      "------------------------------\n",
      "Train Loss EPOCH 22: 0.4915\n",
      "Valid Loss EPOCH 22: 0.4108\n",
      "Train Accuracy EPOCH 22: 0.8714\n",
      "Valid Accuracy EPOCH 22: 0.9007\n",
      "------------------------------\n"
     ]
    },
    {
     "name": "stderr",
     "output_type": "stream",
     "text": [
      "100%|██████████| 74/74 [00:13<00:00,  5.61it/s]\n",
      "100%|██████████| 9/9 [00:00<00:00, 15.53it/s]\n",
      " 57%|█████▊    | 23/40 [05:16<03:57, 13.95s/it]"
     ]
    },
    {
     "name": "stdout",
     "output_type": "stream",
     "text": [
      "------------------------------\n",
      "Train Loss EPOCH 23: 0.4637\n",
      "Valid Loss EPOCH 23: 0.4046\n",
      "Train Accuracy EPOCH 23: 0.8789\n",
      "Valid Accuracy EPOCH 23: 0.9086\n",
      "------------------------------\n"
     ]
    },
    {
     "name": "stderr",
     "output_type": "stream",
     "text": [
      "100%|██████████| 74/74 [00:14<00:00,  5.23it/s]\n",
      "100%|██████████| 9/9 [00:00<00:00, 17.87it/s]\n",
      " 60%|██████    | 24/40 [05:31<03:47, 14.22s/it]"
     ]
    },
    {
     "name": "stdout",
     "output_type": "stream",
     "text": [
      "------------------------------\n",
      "Train Loss EPOCH 24: 0.4493\n",
      "Valid Loss EPOCH 24: 0.3932\n",
      "Train Accuracy EPOCH 24: 0.8814\n",
      "Valid Accuracy EPOCH 24: 0.9069\n",
      "------------------------------\n"
     ]
    },
    {
     "name": "stderr",
     "output_type": "stream",
     "text": [
      "100%|██████████| 74/74 [00:13<00:00,  5.41it/s]\n",
      "100%|██████████| 9/9 [00:00<00:00, 18.23it/s]\n",
      " 62%|██████▎   | 25/40 [05:46<03:33, 14.27s/it]"
     ]
    },
    {
     "name": "stdout",
     "output_type": "stream",
     "text": [
      "------------------------------\n",
      "Train Loss EPOCH 25: 0.4315\n",
      "Valid Loss EPOCH 25: 0.3716\n",
      "Train Accuracy EPOCH 25: 0.8872\n",
      "Valid Accuracy EPOCH 25: 0.9095\n",
      "------------------------------\n"
     ]
    },
    {
     "name": "stderr",
     "output_type": "stream",
     "text": [
      "100%|██████████| 74/74 [00:13<00:00,  5.44it/s]\n",
      "100%|██████████| 9/9 [00:00<00:00, 14.47it/s]\n",
      " 65%|██████▌   | 26/40 [06:00<03:20, 14.31s/it]"
     ]
    },
    {
     "name": "stdout",
     "output_type": "stream",
     "text": [
      "------------------------------\n",
      "Train Loss EPOCH 26: 0.4204\n",
      "Valid Loss EPOCH 26: 0.3633\n",
      "Train Accuracy EPOCH 26: 0.8871\n",
      "Valid Accuracy EPOCH 26: 0.9102\n",
      "------------------------------\n"
     ]
    },
    {
     "name": "stderr",
     "output_type": "stream",
     "text": [
      "100%|██████████| 74/74 [00:13<00:00,  5.54it/s]\n",
      "100%|██████████| 9/9 [00:00<00:00, 17.96it/s]\n",
      " 68%|██████▊   | 27/40 [06:14<03:04, 14.23s/it]"
     ]
    },
    {
     "name": "stdout",
     "output_type": "stream",
     "text": [
      "------------------------------\n",
      "Train Loss EPOCH 27: 0.4034\n",
      "Valid Loss EPOCH 27: 0.3386\n",
      "Train Accuracy EPOCH 27: 0.8927\n",
      "Valid Accuracy EPOCH 27: 0.9148\n",
      "------------------------------\n"
     ]
    },
    {
     "name": "stderr",
     "output_type": "stream",
     "text": [
      "100%|██████████| 74/74 [00:13<00:00,  5.51it/s]\n",
      "100%|██████████| 9/9 [00:00<00:00, 18.89it/s]\n",
      " 70%|███████   | 28/40 [06:28<02:50, 14.19s/it]"
     ]
    },
    {
     "name": "stdout",
     "output_type": "stream",
     "text": [
      "------------------------------\n",
      "Train Loss EPOCH 28: 0.3893\n",
      "Valid Loss EPOCH 28: 0.3347\n",
      "Train Accuracy EPOCH 28: 0.8945\n",
      "Valid Accuracy EPOCH 28: 0.9193\n",
      "------------------------------\n"
     ]
    },
    {
     "name": "stderr",
     "output_type": "stream",
     "text": [
      "100%|██████████| 74/74 [00:13<00:00,  5.53it/s]\n",
      "100%|██████████| 9/9 [00:00<00:00, 14.98it/s]\n",
      " 72%|███████▎  | 29/40 [06:42<02:36, 14.18s/it]"
     ]
    },
    {
     "name": "stdout",
     "output_type": "stream",
     "text": [
      "------------------------------\n",
      "Train Loss EPOCH 29: 0.3785\n",
      "Valid Loss EPOCH 29: 0.3269\n",
      "Train Accuracy EPOCH 29: 0.8983\n",
      "Valid Accuracy EPOCH 29: 0.9193\n",
      "------------------------------\n"
     ]
    },
    {
     "name": "stderr",
     "output_type": "stream",
     "text": [
      "100%|██████████| 74/74 [00:13<00:00,  5.50it/s]\n",
      "100%|██████████| 9/9 [00:00<00:00, 18.39it/s]\n",
      " 75%|███████▌  | 30/40 [06:56<02:21, 14.17s/it]"
     ]
    },
    {
     "name": "stdout",
     "output_type": "stream",
     "text": [
      "------------------------------\n",
      "Train Loss EPOCH 30: 0.3696\n",
      "Valid Loss EPOCH 30: 0.3118\n",
      "Train Accuracy EPOCH 30: 0.8991\n",
      "Valid Accuracy EPOCH 30: 0.9198\n",
      "------------------------------\n"
     ]
    },
    {
     "name": "stderr",
     "output_type": "stream",
     "text": [
      "100%|██████████| 74/74 [00:13<00:00,  5.50it/s]\n",
      "100%|██████████| 9/9 [00:00<00:00, 18.51it/s]\n",
      " 78%|███████▊  | 31/40 [07:11<02:07, 14.16s/it]"
     ]
    },
    {
     "name": "stdout",
     "output_type": "stream",
     "text": [
      "------------------------------\n",
      "Train Loss EPOCH 31: 0.3581\n",
      "Valid Loss EPOCH 31: 0.2890\n",
      "Train Accuracy EPOCH 31: 0.9010\n",
      "Valid Accuracy EPOCH 31: 0.9262\n",
      "------------------------------\n"
     ]
    },
    {
     "name": "stderr",
     "output_type": "stream",
     "text": [
      "100%|██████████| 74/74 [00:13<00:00,  5.55it/s]\n",
      "100%|██████████| 9/9 [00:00<00:00, 15.26it/s]\n",
      " 80%|████████  | 32/40 [07:25<01:53, 14.15s/it]"
     ]
    },
    {
     "name": "stdout",
     "output_type": "stream",
     "text": [
      "------------------------------\n",
      "Train Loss EPOCH 32: 0.3431\n",
      "Valid Loss EPOCH 32: 0.2883\n",
      "Train Accuracy EPOCH 32: 0.9060\n",
      "Valid Accuracy EPOCH 32: 0.9238\n",
      "------------------------------\n"
     ]
    },
    {
     "name": "stderr",
     "output_type": "stream",
     "text": [
      "100%|██████████| 74/74 [00:13<00:00,  5.56it/s]\n",
      "100%|██████████| 9/9 [00:00<00:00, 18.45it/s]\n",
      " 82%|████████▎ | 33/40 [07:39<01:38, 14.10s/it]"
     ]
    },
    {
     "name": "stdout",
     "output_type": "stream",
     "text": [
      "------------------------------\n",
      "Train Loss EPOCH 33: 0.3381\n",
      "Valid Loss EPOCH 33: 0.2997\n",
      "Train Accuracy EPOCH 33: 0.9072\n",
      "Valid Accuracy EPOCH 33: 0.9257\n",
      "------------------------------\n"
     ]
    },
    {
     "name": "stderr",
     "output_type": "stream",
     "text": [
      "100%|██████████| 74/74 [00:13<00:00,  5.49it/s]\n",
      "100%|██████████| 9/9 [00:00<00:00, 18.04it/s]\n",
      " 85%|████████▌ | 34/40 [07:53<01:24, 14.12s/it]"
     ]
    },
    {
     "name": "stdout",
     "output_type": "stream",
     "text": [
      "------------------------------\n",
      "Train Loss EPOCH 34: 0.3302\n",
      "Valid Loss EPOCH 34: 0.2874\n",
      "Train Accuracy EPOCH 34: 0.9089\n",
      "Valid Accuracy EPOCH 34: 0.9293\n",
      "------------------------------\n"
     ]
    },
    {
     "name": "stderr",
     "output_type": "stream",
     "text": [
      "100%|██████████| 74/74 [00:13<00:00,  5.51it/s]\n",
      "100%|██████████| 9/9 [00:00<00:00, 14.70it/s]\n",
      " 88%|████████▊ | 35/40 [08:07<01:10, 14.16s/it]"
     ]
    },
    {
     "name": "stdout",
     "output_type": "stream",
     "text": [
      "------------------------------\n",
      "Train Loss EPOCH 35: 0.3221\n",
      "Valid Loss EPOCH 35: 0.2713\n",
      "Train Accuracy EPOCH 35: 0.9114\n",
      "Valid Accuracy EPOCH 35: 0.9298\n",
      "------------------------------\n"
     ]
    },
    {
     "name": "stderr",
     "output_type": "stream",
     "text": [
      "100%|██████████| 74/74 [00:13<00:00,  5.49it/s]\n",
      "100%|██████████| 9/9 [00:00<00:00, 18.16it/s]\n",
      " 90%|█████████ | 36/40 [08:21<00:56, 14.16s/it]"
     ]
    },
    {
     "name": "stdout",
     "output_type": "stream",
     "text": [
      "------------------------------\n",
      "Train Loss EPOCH 36: 0.3094\n",
      "Valid Loss EPOCH 36: 0.2761\n",
      "Train Accuracy EPOCH 36: 0.9146\n",
      "Valid Accuracy EPOCH 36: 0.9260\n",
      "------------------------------\n"
     ]
    },
    {
     "name": "stderr",
     "output_type": "stream",
     "text": [
      "100%|██████████| 74/74 [00:13<00:00,  5.44it/s]\n",
      "100%|██████████| 9/9 [00:00<00:00, 17.87it/s]\n",
      " 92%|█████████▎| 37/40 [08:35<00:42, 14.20s/it]"
     ]
    },
    {
     "name": "stdout",
     "output_type": "stream",
     "text": [
      "------------------------------\n",
      "Train Loss EPOCH 37: 0.3012\n",
      "Valid Loss EPOCH 37: 0.2714\n",
      "Train Accuracy EPOCH 37: 0.9166\n",
      "Valid Accuracy EPOCH 37: 0.9333\n",
      "------------------------------\n"
     ]
    },
    {
     "name": "stderr",
     "output_type": "stream",
     "text": [
      "100%|██████████| 74/74 [00:13<00:00,  5.47it/s]\n",
      "100%|██████████| 9/9 [00:00<00:00, 14.81it/s]\n",
      " 95%|█████████▌| 38/40 [08:50<00:28, 14.24s/it]"
     ]
    },
    {
     "name": "stdout",
     "output_type": "stream",
     "text": [
      "------------------------------\n",
      "Train Loss EPOCH 38: 0.2936\n",
      "Valid Loss EPOCH 38: 0.2478\n",
      "Train Accuracy EPOCH 38: 0.9179\n",
      "Valid Accuracy EPOCH 38: 0.9333\n",
      "------------------------------\n"
     ]
    },
    {
     "name": "stderr",
     "output_type": "stream",
     "text": [
      "100%|██████████| 74/74 [00:13<00:00,  5.47it/s]\n",
      "100%|██████████| 9/9 [00:00<00:00, 18.16it/s]\n",
      " 98%|█████████▊| 39/40 [09:04<00:14, 14.23s/it]"
     ]
    },
    {
     "name": "stdout",
     "output_type": "stream",
     "text": [
      "------------------------------\n",
      "Train Loss EPOCH 39: 0.2885\n",
      "Valid Loss EPOCH 39: 0.2443\n",
      "Train Accuracy EPOCH 39: 0.9196\n",
      "Valid Accuracy EPOCH 39: 0.9345\n",
      "------------------------------\n"
     ]
    },
    {
     "name": "stderr",
     "output_type": "stream",
     "text": [
      "100%|██████████| 74/74 [00:13<00:00,  5.47it/s]\n",
      "100%|██████████| 9/9 [00:00<00:00, 18.38it/s]\n",
      "100%|██████████| 40/40 [09:18<00:00, 13.97s/it]"
     ]
    },
    {
     "name": "stdout",
     "output_type": "stream",
     "text": [
      "------------------------------\n",
      "Train Loss EPOCH 40: 0.2850\n",
      "Valid Loss EPOCH 40: 0.2577\n",
      "Train Accuracy EPOCH 40: 0.9194\n",
      "Valid Accuracy EPOCH 40: 0.9340\n",
      "------------------------------\n",
      "Training Time: 558.74s\n"
     ]
    },
    {
     "name": "stderr",
     "output_type": "stream",
     "text": [
      "\n"
     ]
    }
   ],
   "source": [
    "criterion = nn.CrossEntropyLoss()\n",
    "optimizer = optim.Adam(model.parameters(), betas=ADAM_BETAS, lr=LEARNING_RATE, weight_decay=ADAM_WEIGHT_DECAY)\n",
    "\n",
    "start = timeit.default_timer()\n",
    "for epoch in tqdm(range(EPOCHS), position=0, leave=True):\n",
    "    model.train()\n",
    "    train_labels = []\n",
    "    train_preds = []\n",
    "    train_running_loss = 0\n",
    "    for idx, img_label in enumerate(tqdm(train_dataloader, position=0, leave=True)):\n",
    "        img = img_label[\"image\"].float().to(device)\n",
    "        label = img_label[\"label\"].type(torch.uint8).to(device)\n",
    "        y_pred = model(img)\n",
    "        y_pred_label = torch.argmax(y_pred, dim=1)\n",
    "\n",
    "        train_labels.extend(label.cpu().detach())\n",
    "        train_preds.extend(y_pred_label.cpu().detach())\n",
    "        \n",
    "        loss = criterion(y_pred, label)\n",
    "        \n",
    "        optimizer.zero_grad()\n",
    "        loss.backward()\n",
    "        optimizer.step()\n",
    "\n",
    "        train_running_loss += loss.item()\n",
    "    train_loss = train_running_loss / (idx + 1)\n",
    "\n",
    "    model.eval()\n",
    "    val_labels = []\n",
    "    val_preds = []\n",
    "    val_running_loss = 0\n",
    "    with torch.no_grad():\n",
    "        for idx, img_label in enumerate(tqdm(val_dataloader, position=0, leave=True)):\n",
    "            img = img_label[\"image\"].float().to(device)\n",
    "            label = img_label[\"label\"].type(torch.uint8).to(device)         \n",
    "            y_pred = model(img)\n",
    "            y_pred_label = torch.argmax(y_pred, dim=1)\n",
    "            \n",
    "            val_labels.extend(label.cpu().detach())\n",
    "            val_preds.extend(y_pred_label.cpu().detach())\n",
    "            \n",
    "            loss = criterion(y_pred, label)\n",
    "            val_running_loss += loss.item()\n",
    "    val_loss = val_running_loss / (idx + 1)\n",
    "\n",
    "    print(\"-\"*30)\n",
    "    print(f\"Train Loss EPOCH {epoch+1}: {train_loss:.4f}\")\n",
    "    print(f\"Valid Loss EPOCH {epoch+1}: {val_loss:.4f}\")\n",
    "    print(f\"Train Accuracy EPOCH {epoch+1}: {sum(1 for x,y in zip(train_preds, train_labels) if x == y) / len(train_labels):.4f}\")\n",
    "    print(f\"Valid Accuracy EPOCH {epoch+1}: {sum(1 for x,y in zip(val_preds, val_labels) if x == y) / len(val_labels):.4f}\")\n",
    "    print(\"-\"*30)\n",
    "\n",
    "stop = timeit.default_timer()\n",
    "print(f\"Training Time: {stop-start:.2f}s\")"
   ]
  },
  {
   "cell_type": "code",
   "execution_count": 16,
   "metadata": {
    "execution": {
     "iopub.execute_input": "2023-09-26T14:56:27.521475Z",
     "iopub.status.busy": "2023-09-26T14:56:27.520895Z",
     "iopub.status.idle": "2023-09-26T14:56:27.577032Z",
     "shell.execute_reply": "2023-09-26T14:56:27.576023Z",
     "shell.execute_reply.started": "2023-09-26T14:56:27.521442Z"
    }
   },
   "outputs": [],
   "source": [
    "torch.cuda.empty_cache()"
   ]
  },
  {
   "cell_type": "code",
   "execution_count": 17,
   "metadata": {
    "execution": {
     "iopub.execute_input": "2023-09-26T15:27:53.531252Z",
     "iopub.status.busy": "2023-09-26T15:27:53.530890Z",
     "iopub.status.idle": "2023-09-26T15:27:58.155874Z",
     "shell.execute_reply": "2023-09-26T15:27:58.154902Z",
     "shell.execute_reply.started": "2023-09-26T15:27:53.531223Z"
    }
   },
   "outputs": [
    {
     "name": "stderr",
     "output_type": "stream",
     "text": [
      "100%|██████████| 55/55 [00:03<00:00, 15.22it/s]\n"
     ]
    }
   ],
   "source": [
    "labels = []\n",
    "ids = []\n",
    "imgs = []\n",
    "model.eval()\n",
    "with torch.no_grad():\n",
    "    for idx, sample in enumerate(tqdm(test_dataloader, position=0, leave=True)):\n",
    "        img = sample[\"image\"].to(device)\n",
    "        ids.extend([int(i)+1 for i in sample[\"index\"]])\n",
    "        \n",
    "        outputs = model(img)\n",
    "        \n",
    "        imgs.extend(img.detach().cpu())\n",
    "        labels.extend([int(i) for i in torch.argmax(outputs, dim=1)])"
   ]
  },
  {
   "cell_type": "code",
   "execution_count": 18,
   "metadata": {
    "execution": {
     "iopub.execute_input": "2023-09-26T15:42:29.857582Z",
     "iopub.status.busy": "2023-09-26T15:42:29.856995Z",
     "iopub.status.idle": "2023-09-26T15:42:31.213526Z",
     "shell.execute_reply": "2023-09-26T15:42:31.212512Z",
     "shell.execute_reply.started": "2023-09-26T15:42:29.857521Z"
    }
   },
   "outputs": [
    {
     "data": {
      "text/plain": [
       "<Figure size 640x480 with 0 Axes>"
      ]
     },
     "metadata": {},
     "output_type": "display_data"
    },
    {
     "data": {
      "image/png": "[encoded data removed]",
      "text/plain": [
       "<Figure size 640x480 with 6 Axes>"
      ]
     },
     "metadata": {},
     "output_type": "display_data"
    }
   ],
   "source": [
    "plt.figure()\n",
    "f, axarr = plt.subplots(2, 3)\n",
    "counter = 0\n",
    "for i in range(2):\n",
    "    for j in range(3):\n",
    "        axarr[i][j].imshow(imgs[counter].squeeze(), cmap=\"gray\")\n",
    "        axarr[i][j].set_title(f\"Predicted {labels[counter]}\")\n",
    "        counter += 1"
   ]
  },
  {
   "cell_type": "code",
   "execution_count": null,
   "metadata": {},
   "outputs": [],
   "source": []
  }
 ],
 "metadata": {
  "kernelspec": {
   "display_name": "base",
   "language": "python",
   "name": "python3"
  },
  "language_info": {
   "codemirror_mode": {
    "name": "ipython",
    "version": 3
   },
   "file_extension": ".py",
   "mimetype": "text/x-python",
   "name": "python",
   "nbconvert_exporter": "python",
   "pygments_lexer": "ipython3",
   "version": "3.11.7"
  }
 },
 "nbformat": 4,
 "nbformat_minor": 4
}
